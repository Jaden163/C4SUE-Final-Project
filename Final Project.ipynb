{
 "cells": [
  {
   "cell_type": "code",
   "execution_count": 265,
   "metadata": {},
   "outputs": [],
   "source": [
    "import requests\n",
    "import json\n",
    "from pandas.io.json import json_normalize\n",
    "import numpy as np\n",
    "import pandas as pd "
   ]
  },
  {
   "cell_type": "code",
   "execution_count": 266,
   "metadata": {
    "scrolled": true
   },
   "outputs": [
    {
     "name": "stdout",
     "output_type": "stream",
     "text": [
      "     Zip           City State   Latitude  Longitude  Timezone  \\\n",
      "0  14043          Depew    NY  42.904958 -78.700600        -5   \n",
      "1  13827          Owego    NY  42.120274 -76.258740        -5   \n",
      "2  14739     Friendship    NY  42.192384 -78.143080        -5   \n",
      "3  11703  North Babylon    NY  40.733398 -73.322570        -5   \n",
      "4  11707   West Babylon    NY  40.922326 -72.637078        -5   \n",
      "\n",
      "   Daylight savings time flag               geopoint  \n",
      "0                           1    42.904958, -78.7006  \n",
      "1                           1   42.120274, -76.25874  \n",
      "2                           1   42.192384, -78.14308  \n",
      "3                           1   40.733398, -73.32257  \n",
      "4                           1  40.922326, -72.637078  \n"
     ]
    }
   ],
   "source": [
    "# converts converts zipcode to location coords\n",
    "# dataset from https://public.opendatasoft.com/explore/dataset/us-zip-code-latitude-and-longitude/export/?refine.state=NY\n",
    "\n",
    "NYC_zipcode = []\n",
    "with open(\"zipcode.csv\", 'r') as f:\n",
    "        f.readline()\n",
    "        for line in f:\n",
    "            line = line.split(\",\")\n",
    "            NYC_zipcode.append(str(line[0]))\n",
    "\n",
    "NY_Zip = pd.read_csv('NYCZipGeo.csv')\n",
    "print(NY_Zip.head(5))\n",
    "NYC_zip_coord = []\n",
    "for zipcode in NYC_zipcode:\n",
    "    row = (NY_Zip.loc[NY_Zip['Zip']==int(zipcode)].values.tolist())\n",
    "    lat,long = row[-1][-1].split(\",\")\n",
    "    NYC_zip_coord.append([zipcode, float(lat), float(long)])\n",
    "    \n",
    "\n"
   ]
  },
  {
   "cell_type": "code",
   "execution_count": 267,
   "metadata": {},
   "outputs": [],
   "source": [
    "# function to call NREL API based on year, geocoord. zipcode is only used for naming of CSV file and not API call\n",
    "def get_NREL_data(year,coord,zipcode):\n",
    "    url = \"http://developer.nrel.gov/api/solar/nsrdb_psm3_download.csv?api_key=bXvuXx7aWzWFjrYTZwf5JOzakg9QQIUreiztEMrt\"\n",
    "\n",
    "    payload = \"names=\"+str(year)+\"&leap_day=false&interval=60&utc=false&full_name=Honored%2BUser&email=honored.user%40gmail.com&affiliation=NREL&mailing_list=true&reason=Academic&attributes=dhi%2Cdni%2Cwind_speed%2Cair_temperature&wkt=POINT\"+coord\n",
    "    headers = {\n",
    "        'content-type': \"application/x-www-form-urlencoded\",\n",
    "        'cache-control': \"no-cache\"\n",
    "    }\n",
    "    \n",
    "    response = requests.request(\"POST\", url, data=payload, headers=headers)\n",
    "    data = (response.text) \n",
    "    \n",
    "    # parsing through output by removing header files and writing it into a CSV\n",
    "    data = data.split(\"\\n\")\n",
    "    name = str(year) + \"_\" + str(zipcode) + \".csv\"\n",
    "    with open(name, 'w') as f:\n",
    "        for line in data[2:]:\n",
    "            f.write(line)\n",
    "            f.write(\"\\n\")\n",
    "\n",
    "        "
   ]
  },
  {
   "cell_type": "code",
   "execution_count": 268,
   "metadata": {},
   "outputs": [],
   "source": [
    "# call NREL function for each zipcode in NYC\n",
    "for zip in NYC_zip_coord:\n",
    "    coord = \"(\" + str(zip[2]) + \"+\" + str(zip[1]) + \")\"\n",
    "    get_NREL_data(2018,coord,zip[0])"
   ]
  },
  {
   "cell_type": "code",
   "execution_count": 280,
   "metadata": {},
   "outputs": [],
   "source": [
    "# aggregating zipcode data into monthly value\n",
    "def calcMonthAverage(fileName):\n",
    "    CSVdata = pd.read_csv(fileName)\n",
    "    # convert CSV into dataframe\n",
    "    monthly = {}\n",
    "    for month in range(1,13):\n",
    "        row = CSVdata.loc[CSVdata['Month']==month]\n",
    "        monthSum = row.sum()\n",
    "        monthly[month] = [str(monthSum[5]), str(monthSum[6]), str(monthSum[8])]\n",
    "    \n",
    "    # output result into a monthly CSV\n",
    "    year = \"2018\"\n",
    "    monthlyName = \"monthly_\" + fileName\n",
    "    with open(monthlyName, 'w') as f:\n",
    "        f.write(\"Year, Month, DHI, DNI, Temperature\\n\")\n",
    "        for month in monthly:\n",
    "            row = \",\".join(monthly[month])\n",
    "            row = year + ',' + str(month) + \",\" + row\n",
    "            f.write(row)\n",
    "            f.write(\"\\n\")"
   ]
  },
  {
   "cell_type": "code",
   "execution_count": 281,
   "metadata": {},
   "outputs": [],
   "source": [
    "# calculate monthly avereage for each zipcode\n",
    "def calcMonthlyAverage(zipcodes): \n",
    "    for zip in zipcodes:\n",
    "        name = \"2018_\" + str(zip) + \".csv\" \n",
    "        calcMonthAverage(name)\n",
    "        \n",
    "calcMonthlyAverage(NYC_zipcode)"
   ]
  },
  {
   "cell_type": "code",
   "execution_count": 283,
   "metadata": {},
   "outputs": [],
   "source": [
    "# calculate annual avereage and combine them into one single pdf\n",
    "def combineData(zipcodes,city):\n",
    "    zipcodeDict = {}\n",
    "    for zip in zipcodes:\n",
    "        fileName = \"monthly_2018_\" + str(zip) + \".csv\"\n",
    "        CSVdata = pd.read_csv(fileName)\n",
    "        annualSum = CSVdata.sum()\n",
    "        row = [str(annualSum[2]), str(annualSum[3]), str(annualSum[4]/8760)]\n",
    "        row = \",\".join(row)\n",
    "        zipcodeDict[zip] = row\n",
    "        \n",
    "    year = \"2018\"\n",
    "    annualFile = year + \"_\" + city + \"_Data.csv\"\n",
    "    with open(annualFile, 'w') as f:\n",
    "        f.write(\"Zip, DHI, DNI, Temperature\\n\")\n",
    "        for zip in zipcodeDict:\n",
    "            row = zipcodeDict[zip]\n",
    "            row = str(zip) + ',' + row\n",
    "            f.write(row)\n",
    "            f.write(\"\\n\")\n",
    "            \n",
    "combineData(NYC_zipcode,\"NYC\")"
   ]
  },
  {
   "cell_type": "code",
   "execution_count": 305,
   "metadata": {},
   "outputs": [
    {
     "name": "stdout",
     "output_type": "stream",
     "text": [
      "       Zip     DHI      DNI  Temperature    Total\n",
      "1    11213  540131  1447343    11.791541  1987474\n",
      "72   11101  541582  1436014    11.814201  1977596\n",
      "87   11222  541582  1436014    11.814201  1977596\n",
      "97   11206  540131  1447343    11.791541  1987474\n",
      "168  11221  540131  1447343    11.791541  1987474\n",
      "172  11216  540131  1447343    11.791541  1987474\n",
      "188  11211  541582  1436014    11.814201  1977596\n"
     ]
    }
   ],
   "source": [
    "# NOTE: Returned CSV has spaces in column name for some reason. Too lazy to fix, need to manual remove in CSV file\n",
    "finalData = pd.read_csv(\"2018_NYC_Data.csv\")\n",
    "finalData.head()\n",
    "result = finalData[ (finalData['DHI']>= 538737) & (finalData['DNI'] >= 1428080) ]\n",
    "print(result)"
   ]
  },
  {
   "cell_type": "code",
   "execution_count": 304,
   "metadata": {},
   "outputs": [],
   "source": []
  },
  {
   "cell_type": "code",
   "execution_count": null,
   "metadata": {},
   "outputs": [],
   "source": []
  }
 ],
 "metadata": {
  "kernelspec": {
   "display_name": "Python 3",
   "language": "python",
   "name": "python3"
  },
  "language_info": {
   "codemirror_mode": {
    "name": "ipython",
    "version": 3
   },
   "file_extension": ".py",
   "mimetype": "text/x-python",
   "name": "python",
   "nbconvert_exporter": "python",
   "pygments_lexer": "ipython3",
   "version": "3.7.4"
  }
 },
 "nbformat": 4,
 "nbformat_minor": 2
}
